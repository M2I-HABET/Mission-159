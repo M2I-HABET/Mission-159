{
  "cells": [
    {
      "cell_type": "markdown",
      "metadata": {
        "id": "BZG1kK4C7zxO"
      },
      "source": [
        "# HABET Flight Data Recorder Parser\n",
        "This notebook can be used to parse and display data that is recorded on both the High Altitude Reporter (HAR) and the Backup Emergency Recovery Transmitter (BERT). Both units use an Adafruit Clue board that has 2MB of FLASH memory storage. This storage stores GPS data and sensor data from the Clue board.\n",
        "\n",
        "As of 8/17/2021, the data is stored as a comma seperated values (csv) file and is formatted as follows:\n",
        "\n",
        "$IDENT,TimeStamp,GPSLat,GPSLon,GPSAlt,GPSSats,Temp,Pressure,Humidity,MagX,MagY,MagZ,AccelX,AccelY,AccelZ,GyroX,GyroY,GyroZ,Light,#\n",
        "\n",
        "IDENT refers to the device that is recording. This should be either HAR or BERT. TimeStampe is taken from the GPS unit. "
      ]
    },
    {
      "cell_type": "markdown",
      "metadata": {},
      "source": [
        "# HABET Flight Information\n",
        "## HABET Flight LX-159-B\n",
        "LX-159-B used a foam spacecraft with the HAR system. The GPS module was swapped out with a slightly different module due to availability. A new GPS antenna that is much more compact was used. No BERT module was flown due to the high likely hood the spacecraft would be delayed in recovery due to weather conditions. A standard 3.7 VDC Li-Poly \n",
        "\n",
        "### Mission status\n",
        "- [x] Test revised GPS board to altitudes above 60,000 feet\n",
        "- [x] Test launcing in high winds conditions\n",
        "- [x] Continued test on LoRa system (partial success)\n",
        "\n",
        "HABET Flight L-159-B was launched on Dec. 15th, 2021 from the campus at Iowa State University. Weather conditions were getting worse due to an incoming storm. Conditions at launch were partly cloudy, but winds were high gusting to 30-40 mph. This was an intentional launch into an active weather system to see what atmospheric data could be collected. \n",
        "\n",
        "### Flight Details\n",
        "- Launch Date - 12/15/2021\n",
        "- Launch Time - 1500 CDT"
      ]
    },
    {
      "cell_type": "markdown",
      "metadata": {
        "id": "4aeUjMg_myX6"
      },
      "source": [
        "# Install\n",
        "First we need to install some things that Google Colab doesn't have. Specifically we are going to install tilemapbase for mapping and simplekml for generating a KML file. This is only needed if running on Google Colab or if your local instal does not have these modules. It is assumed that Pandas and NumPy are installed (in Google Colab these are installed by default)"
      ]
    },
    {
      "cell_type": "code",
      "execution_count": null,
      "metadata": {
        "colab": {
          "base_uri": "https://localhost:8080/"
        },
        "id": "ZvSQpgqsmNSt",
        "outputId": "7ef2c41c-4969-46ad-c504-fe3f5378558b"
      },
      "outputs": [],
      "source": [
        "# Install tilemapbase\n",
        "#!pip install tilemapbase\n",
        "#!pip install simplekml"
      ]
    },
    {
      "cell_type": "markdown",
      "metadata": {
        "id": "_RdwqqlVrkDg"
      },
      "source": [
        "# Import\n",
        "Now we import the modules we will be using. This includes tilemapbase, pandas, matplotlib (graphing), math, numpy, datetime, and simplekml. Timemapbase is used to overlay the GPS data over street maps. SimpleKML is used to export the GPS data as KML file that could be used in other mapping programs (Google Earth, Maps, or anything that accepts KML). Math and NumPy provide several math functions used for calculations. Pandas is managing the datasets once we import the CSV file. Finally Datetime is used to calculate some details such as flight time and when it landed."
      ]
    },
    {
      "cell_type": "code",
      "execution_count": 1,
      "metadata": {
        "id": "mEClIysorjoV"
      },
      "outputs": [],
      "source": [
        "# Import Mapping software\n",
        "import tilemapbase\n",
        "\n",
        "# Pandas for data analysis\n",
        "import pandas as pd\n",
        "\n",
        "# Setup Matplotlib to work in Jupyter notebooks\n",
        "%matplotlib inline\n",
        "\n",
        "#Import needed libraries, mainly numpy, matplotlib and datetime\n",
        "import math\n",
        "import numpy as np\n",
        "import matplotlib.pyplot as plt\n",
        "from datetime import datetime, timedelta\n",
        "import simplekml\n",
        "\n",
        "# Import the Image function from the IPython.display module.\n",
        "from IPython.display import Image\n",
        "\n",
        "# Set font size\n",
        "plt.rcParams.update({'font.size': 16})\n",
        "\n"
      ]
    },
    {
      "cell_type": "markdown",
      "metadata": {
        "id": "jtpAauWwghcD"
      },
      "source": [
        "# Initial Launch Conditions\n",
        "It is useful to a few variables now so you don't need to worry about them later. This way you can set these now and then just run the entire notebook. We will set the following variables:\n",
        "\n",
        "- Launch Location (latitude,longitude)\n",
        "- Launch date/time (month-day-year HH:MM:SS)\n",
        "- Flight ID (ex. L-158-D)"
      ]
    },
    {
      "cell_type": "code",
      "execution_count": 2,
      "metadata": {
        "id": "aEBVMdpzxmJU"
      },
      "outputs": [],
      "source": [
        "# Launch Coordinates in Decimal Degress\n",
        "\n",
        "#Iowa State University near Howe Hall\n",
        "launch_loc = (41.5956761, -93.5556615)\n",
        "# Launch elevation in meters, used to help filter out some data and give us a reference point\n",
        "launch_elevation = 330\n",
        "\n",
        "#Flight ID - Example LX-158-C\n",
        "flight_id = 'LX-159-B'\n",
        "\n",
        "#time1  = datetime.strptime('8-01-2008 00:00:00', date_format)\n",
        "#set the date and time format\n",
        "date_format = \"%m-%d-%Y %H:%M:%S\"\n",
        "launch_time = datetime.strptime('12-15-2021 14:30:00',date_format)"
      ]
    },
    {
      "cell_type": "markdown",
      "metadata": {
        "id": "HB2Q2HG_ZIyC"
      },
      "source": [
        "## Access our Data"
      ]
    },
    {
      "cell_type": "markdown",
      "metadata": {
        "id": "4rGBvmqMYmoj"
      },
      "source": [
        "We need to access our data which is stored as csv files. If this is local and is the same folder as in the GitHub repo, this should not need to be changed. If running on Google Colab, it should be the same if you cloned the repo to Google Colab."
      ]
    },
    {
      "cell_type": "code",
      "execution_count": 3,
      "metadata": {
        "colab": {
          "base_uri": "https://localhost:8080/"
        },
        "id": "03OsEKSnJv8F",
        "outputId": "2f78161a-62db-4f39-851b-0bf925922e3d"
      },
      "outputs": [],
      "source": [
        "# Mount our Google Drive so we can access files there\n",
        "\n",
        "#from google.colab import drive\n",
        "#drive.mount('/content/gdrive')\n",
        "\n",
        "# Set the folder relative to our current location\n",
        "data_loc = 'Data/L-159-B_HAR_FDR.csv'"
      ]
    },
    {
      "cell_type": "markdown",
      "metadata": {
        "id": "a4f3vBY9ZM2W"
      },
      "source": [
        "## Read and Parse the file"
      ]
    },
    {
      "cell_type": "markdown",
      "metadata": {
        "id": "hyhqS3cjY79V"
      },
      "source": [
        "We can use Pandas to read the CSV files and store them as a Pandas Dataframe. The CSV files do not have headers on them. So, we will also go ahead and add labels for the columns as well."
      ]
    },
    {
      "cell_type": "code",
      "execution_count": 4,
      "metadata": {
        "id": "qiV6YMPoMqVA"
      },
      "outputs": [],
      "source": [
        "har_df = pd.read_csv(data_loc)\n",
        "#bert_df = pd.read_csv(\"/content/gdrive/My Drive/Data/BERT_L-158-D.csv\")\n",
        "har_df.columns =['Ident', 'Lat', 'Lon', 'Altitude','Temp','Pressure','Humidity','Close']\n",
        "#bert_df.columns = ['Temp', 'Pressure', 'Humidity', 'Lat','Lon','Altitude','GPS']"
      ]
    },
    {
      "cell_type": "markdown",
      "metadata": {
        "id": "-q7sRtsgahhD"
      },
      "source": [
        "Now that we have our Dataframes, the data stored does need to have some calculations done to it. Latitude and Longitude data is stored as integer values so it is easier for our microcontroler to work with. To convert this to Decimal Degrees, we simply divide the value by 10000000. Our atltiude is stored in millimeters, to convert to meters, we simply divide by 1000. "
      ]
    },
    {
      "cell_type": "markdown",
      "metadata": {
        "id": "YC-Kflw-7FU3"
      },
      "source": [
        "# Data organization\n",
        "The data is now stored in a Pandas Dataframe. Some of the data needs to be converted however. We can extract the data we want and also do some conversion. HAR stores data whenever possible as integer values as this takes up less storage and needs less processing power. Below are some of the conversions\n",
        "\n",
        "$$\n",
        "Latitude = \\frac{Lat}{10000000}\n",
        "$$\n",
        "\n",
        "$$\n",
        "Longitude = \\frac{Lon}{10000000}\n",
        "$$\n",
        "\n",
        "$$\n",
        "Altitude = \\frac{Alt}{1000}\n",
        "$$\n",
        "\n",
        "## Data cleanup\n",
        "Once powered on, it takes a few seconds for the GPS to get a lock. Any lat/lon data with zeros means the GPS does not have a lock. We will want to filter these out (if not already removed).\n",
        "\n",
        "## Remove unwanted data\n",
        "With most flights, the data recorders are turned on and then the spacecraft sits on the launch pad until launch and this can be up to 30 minutes. In addition, the spacecraft will land and will continue to record until it is shutoff which can be anywhere 10 minutes to hours depending on where it lands. For that reason we can set a cutoff point to filter out that downtime data and just look at the data during the flight."
      ]
    },
    {
      "cell_type": "code",
      "execution_count": 11,
      "metadata": {
        "id": "2RM2ksmXah6M"
      },
      "outputs": [
        {
          "name": "stdout",
          "output_type": "stream",
          "text": [
            "     Ident        Lat        Lon  Altitude   Temp  Pressure  Humidity Close\n",
            "261   $HAR  420266171 -936551312    377248  31.13    963.91     39.62     #\n",
            "262   $HAR  420266319 -936550689    373029  31.12    963.88     39.57     #\n",
            "263   $HAR  420266298 -936549995    368497  31.12    963.87     39.58     #\n",
            "387   $HAR  420299321 -936539624    364379  29.90    947.82     40.63     #\n",
            "388   $HAR  420307129 -936538157    400613  29.87    944.55     40.67     #\n",
            "...    ...        ...        ...       ...    ...       ...       ...   ...\n",
            "1571  $HAR  436014128 -915690400    467871   6.28    942.01     98.11     #\n",
            "1572  $HAR  436020296 -915691356    446732   6.41    944.11     98.12     #\n",
            "1573  $HAR  436025190 -915692343    430230   6.53    946.01     98.16     #\n",
            "1574  $HAR  436031104 -915693401    405759   6.66    948.46     98.14     #\n",
            "1575  $HAR  436036460 -915693732    373391   6.80    951.66     98.16     #\n",
            "\n",
            "[1192 rows x 8 columns]\n"
          ]
        }
      ],
      "source": [
        "# Filter the data first\n",
        "#bert_df2 = bert_df.drop(bert_df[bert_df.Altitude < 330000].index)\n",
        "#bert_df2 = bert_df2.drop(1)\n",
        "har_df2 = har_df.drop(har_df[har_df.Altitude < 360000].index)\n",
        "#har_df2 = har_df2.drop(1)\n",
        "#data2 = data.drop(data[data.x3 == 5].index)         # Using drop() function\n",
        "har_temp = har_df.Temp\n",
        "har_temp_short = har_df2.Temp\n",
        "#bert_temp = bert_df2.Temp\n",
        "har_humidity = har_df.Humidity\n",
        "har_humidity_short = har_df2.Humidity\n",
        "har_pressure = har_df.Pressure\n",
        "har_pressure_short = har_df2.Pressure\n",
        "#bert_humidity = bert_df2.Humidity\n",
        "#bert_pressure = bert_df2.Pressure\n",
        "har_lat = har_df.Lat / 10000000\n",
        "har_lat_short = har_df2.Lat / 10000000\n",
        "#bert_lat = bert_df2.Lat / 10000000\n",
        "har_lon = har_df.Lon / 10000000\n",
        "har_lon_short = har_df2.Lon / 10000000\n",
        "#bert_lon = bert_df2.Lon / 10000000\n",
        "har_alt = har_df.Altitude / 1000\n",
        "har_alt_short = har_df2.Altitude / 1000\n",
        "#bert_alt = bert_df2.Altitude / 1000\n",
        "#bert_alt = ber_df\n",
        "print(har_df2)"
      ]
    },
    {
      "cell_type": "markdown",
      "metadata": {
        "id": "Gh56za2lF9xM"
      },
      "source": [
        "# Flight Information\n",
        "We can now do some calculations on a few stats on the flights. Let's start by calculating the flight time. BERT records at 1 sec intervals and HAR at 5 second intervals. Depending on the data we are using, we will set a time index value. From there we can use the launch time and work from there."
      ]
    },
    {
      "cell_type": "code",
      "execution_count": null,
      "metadata": {
        "colab": {
          "base_uri": "https://localhost:8080/"
        },
        "id": "ky8yc0NIGLtx",
        "outputId": "d182bf99-b195-4e6d-979e-2e5fc29f1aa6"
      },
      "outputs": [],
      "source": [
        "time_index = 5\n",
        "print(\"Launch date is:\",launch_time.date())\n",
        "print(\"Launch time is:\",launch_time.time())\n",
        "time_sec = len(har_df2)*time_index\n",
        "flight_time = timedelta(seconds=time_sec)\n",
        "landing_time = launch_time+timedelta(seconds=time_sec)\n",
        "print(\"Flight time is:\",flight_time)\n",
        "print(\"Landing time is:\",landing_time)"
      ]
    },
    {
      "cell_type": "markdown",
      "metadata": {},
      "source": [
        "## Burst Altitude\n",
        "To find our burst altitude, we simply look for the maximum altitude in our dataset. The Altitude data is recorded in meters, so we will show both meters and also convert to feet. To convert to feet, we follow the following equation\n",
        "\n",
        "$$\n",
        "Alt_{feet} = Alt_{meters}*3.2808\n",
        "$$"
      ]
    },
    {
      "cell_type": "code",
      "execution_count": null,
      "metadata": {},
      "outputs": [],
      "source": [
        "print(\"The maximum altitude or burst obtained is\",har_alt.max(),\"m, or\",(har_alt.max()*3.2808),\"ft\")"
      ]
    },
    {
      "cell_type": "markdown",
      "metadata": {
        "id": "wYw2om6hO7t7"
      },
      "source": [
        "## Distance\n",
        "We can also look at the Launch location and final landing coordinates to get our distance. We can calculate our distance traveled using the following:\n",
        "\n",
        "$$\n",
        "a = sin(\\frac{lat2-lat1}{2})^2 + cos(lat1) * cos(lat2) * sin(\\frac{lon2 - lon1}{2})^2\n",
        "\\\\\n",
        "c = 2 * atan2(\\sqrt{a},\\sqrt{1-a})\n",
        "\\\\\n",
        "distance = R * c\n",
        "$$"
      ]
    },
    {
      "cell_type": "code",
      "execution_count": null,
      "metadata": {
        "colab": {
          "base_uri": "https://localhost:8080/"
        },
        "id": "MTklGIAbPFdR",
        "outputId": "65f317c0-d98f-43ee-f8c1-cacca311fd1e"
      },
      "outputs": [],
      "source": [
        "from math import radians, sin, cos, acos, atan2,sqrt\n",
        "\n",
        "# approximate radius of earth in km\n",
        "R = 6373.0\n",
        "\n",
        "lat1 = radians(launch_loc[0])\n",
        "lon1 = radians(launch_loc[1])\n",
        "lat2 = radians(har_lat.iloc[-1])\n",
        "lon2 = radians(har_lon.iloc[-1])\n",
        "\n",
        "dlon = lon2 - lon1\n",
        "dlat = lat2 - lat1\n",
        "\n",
        "a = sin(dlat / 2)**2 + cos(lat1) * cos(lat2) * sin(dlon / 2)**2\n",
        "c = 2 * atan2(sqrt(a), sqrt(1 - a))\n",
        "\n",
        "distance = R * c\n",
        "distance_miles = distance * 0.6213712\n",
        "\n",
        "print(\"Straight line travel is: %.2f km\" % distance,\"or\",distance_miles,\"miles\")\n"
      ]
    },
    {
      "cell_type": "markdown",
      "metadata": {
        "id": "C6vd1_Gv9NRx"
      },
      "source": [
        "# Ascent Rate Calculations\n",
        "Let's look at what the ascent rate and decent rate is"
      ]
    },
    {
      "cell_type": "code",
      "execution_count": null,
      "metadata": {
        "colab": {
          "base_uri": "https://localhost:8080/"
        },
        "id": "4HQvPVhh9Zfk",
        "outputId": "25d7edf8-408f-41a5-e0e0-56c869f8f079"
      },
      "outputs": [],
      "source": [
        "ascent = har_alt.iloc[601]-har_alt.iloc[600]\n",
        "print(ascent)\n",
        "decent = har_alt.iloc[1001]-har_alt.iloc[1000]\n",
        "print(decent)\n",
        "#for i in range(0,bert_alt.shape[0]-3):\n",
        "#  bert_alt.loc[bert_alt.index[i+3],'SMA_3'] = np.round(((bert_alt.iloc[i]+bert_alt.iloc[i+1]+bert_alt.iloc[i+2],+bert_alt.iloc[i+3])/4),1)\n",
        "#sma_ascent= bert_alt.iloc[:].rolling(window=4).mean()\n",
        "#sma_ascent.head()\n",
        "#for i in sma_ascent:\n",
        "#  sma = sma_ascent[i] - sma_ascent[i+1]\n",
        "#sma.head()"
      ]
    },
    {
      "cell_type": "markdown",
      "metadata": {
        "id": "nt_rZI04ILAd"
      },
      "source": [
        "# Minimum and Maximum Data points\n",
        "Before we graph the data, let's look at some minimum and maximum data points that was collected. There are a few things that should be noted with this data. First, the data was recorded using the Adafruit Clue board. There will be some self-heating due to where the sensor is on the printed circuit board. HAR was located in the payload and heating from itself and the Raspberry Pi 4 Compute Module, the on board power supply and the Rocket M5 wireless transmitter will all contribute quite a bit of heat.\n",
        "\n",
        "BERT on the other hand was located outside of the payload and has a lot less insulation around it. It was enclosed in a small Pelican case. There may be some heating affects from the clear cover that could give a bit of a greenhouse affect, but as you can see, had much wider temperature swings than in the payload. This was to be expected."
      ]
    },
    {
      "cell_type": "markdown",
      "metadata": {
        "id": "JA-_njJPp_G2"
      },
      "source": [
        "## Min/Max Temperature\n",
        "Below is the minimum and maximum temperatures on both the payload and BERT."
      ]
    },
    {
      "cell_type": "code",
      "execution_count": null,
      "metadata": {
        "colab": {
          "base_uri": "https://localhost:8080/"
        },
        "id": "vy2TSB4Yq1-J",
        "outputId": "1e6f3455-b3c8-4f5e-ce2c-8aa186d7775d"
      },
      "outputs": [],
      "source": [
        "print(\"The maximum temperature recorded inside the payload was\",har_temp.max(),\"C\")\n",
        "print(\"The minimum temperature recorded inside the payload was\",har_temp.min(),\"C\")\n",
        "#print(\"The maximum temperature recorded inside BERT was\",bert_temp.max(),\"C\")\n",
        "#print(\"The minimum temperature recorded inside BERT was\",bert_temp.min(),\"C\")"
      ]
    },
    {
      "cell_type": "markdown",
      "metadata": {
        "id": "Vr0A5jcIq3hz"
      },
      "source": [
        "## Min/Max Humidity"
      ]
    },
    {
      "cell_type": "code",
      "execution_count": null,
      "metadata": {
        "colab": {
          "base_uri": "https://localhost:8080/"
        },
        "id": "tPyDXC7_q6Ya",
        "outputId": "2d8b9897-18ff-4f1d-907c-ca8e7c32ef00"
      },
      "outputs": [],
      "source": [
        "print(\"The maximum humidity recorded inside the payload was\",har_humidity.max(),\"%\")\n",
        "print(\"The minimum humidity recorded inside the payload was\",har_humidity.min(),\"%\")\n",
        "#print(\"The maximum humidity recorded inside BERT was\",bert_humidity.max(),\"%\")\n",
        "#print(\"The minimum humidity recorded inside BERT was\",bert_humidity.min(),\"%\")"
      ]
    },
    {
      "cell_type": "markdown",
      "metadata": {
        "id": "-KPRIZ_wq-i1"
      },
      "source": [
        "## Min/Max Dewpoint\n",
        "Since we have both humidity and temperature, we can also calculate the dewpoint. Dewpoint is calculated as below.\n",
        "\n",
        "$T_{temp} - (\\frac{(100 - H_{humidity})}{5})$"
      ]
    },
    {
      "cell_type": "code",
      "execution_count": null,
      "metadata": {
        "colab": {
          "base_uri": "https://localhost:8080/"
        },
        "id": "usKyrm05rysQ",
        "outputId": "c7aa9f46-186a-48d9-ed78-a24b14c54bce"
      },
      "outputs": [],
      "source": [
        "print(\"The maximum dewpoint recorded inside the payload was {:.2f} C\".format(har_temp.max()-((100 - har_humidity.max())/5.0)))\n",
        "print(\"The minimum dewpoint recorded inside the payload was {:.2f} C\".format(har_temp.min()-((100 - har_humidity.min())/5.0)))\n",
        "#print(\"The maximum dewpoint recorded inside BERT was {:.2f} C\".format(bert_temp.max()-((100 - bert_humidity.max())/5.0)))\n",
        "#print(\"The minimum dewpoint recorded inside BERT was {:.2f} C\".format(bert_temp.min()-((100 - bert_humidity.min())/5.0)))"
      ]
    },
    {
      "cell_type": "markdown",
      "metadata": {
        "id": "1EyDdG3OsYky"
      },
      "source": [
        "## Min/Max Pressure"
      ]
    },
    {
      "cell_type": "code",
      "execution_count": null,
      "metadata": {
        "colab": {
          "base_uri": "https://localhost:8080/"
        },
        "id": "b3Kk4dDZsbA6",
        "outputId": "7c943585-f198-4f95-9854-da013549e307"
      },
      "outputs": [],
      "source": [
        "print(\"The maximum pressure recorded inside the payload was\",har_pressure.max(),\"hPa\")\n",
        "#print(\"The maximum pressure recorded inside BERT was\",bert_pressure.max(),\"hPa\")\n",
        "print(\"The minimum pressure recorded inside the payload was\",har_pressure.min(),\"hPa\")\n",
        "#print(\"The minimum pressure recorded inside BERT was\",bert_pressure.min(),\"hPa\")"
      ]
    },
    {
      "cell_type": "markdown",
      "metadata": {
        "id": "ArARyyDeuSFe"
      },
      "source": [
        "## Maximum Altitude"
      ]
    },
    {
      "cell_type": "code",
      "execution_count": null,
      "metadata": {
        "colab": {
          "base_uri": "https://localhost:8080/"
        },
        "id": "SWoWiCPduXJ_",
        "outputId": "fc07143f-144d-406e-8586-574ace46c4e7"
      },
      "outputs": [],
      "source": [
        "print(\"The maximum altitude obtained is\",har_alt.max(),\"m, or\",(har_alt.max()*3.2808),\"ft\")"
      ]
    },
    {
      "cell_type": "markdown",
      "metadata": {
        "id": "iyAaRMGneJOr"
      },
      "source": [
        "# Graphing\n",
        "Both BERT and HAR record a number of data points from their internal sensors. Because HAR's primary function is to communicate back to Mission Control and to manage other functions on the spacecraft, HAR only records data at 5 second intervals so that other clock cycles are used for other functions which have a higher priority. BERT on the other hand has the sole purpose of communicating it's position via satellite and that only happens around 3 minute intervals. The rest of the time it is idle. Due to that, BERT records data at 1 second intervals. \n",
        "\n",
        "The following graphs are from the Clue boards internal Temperature, Humidity, and Pressure sensors. HAR is located inside the spacecraft and is mostly shielded from direct light and the foam around the spacecraft does provide insulation. The spacecraft is not sealed, so pressure will adjust based on external pressure. \n",
        "\n",
        "BERT is located in a semi-sealed Pelican case that is located further up the stack line between the parachute and the spacecraft. This case has a clear top so solar energy can be absorbed. While this is a Pelican case, the case has a pressure relief valve. The case is also compromised, where we drilled a hole for a SMA connector so it is not airtight. \n",
        "\n",
        "Both units were turned on and off within a few seconds of each other. It should be notied that temperature will be off due to self-heating of the sensor and heat generated from the microcontroller. This generally adds 1-4 C to our readings.\n",
        "\n",
        "## Altitude\n",
        "Let's start by graphing the altitude. This altitude is based from the GPS sensor and not from the pressure sensor with this current version.\n",
        "\n",
        "One thing to note is how quickly the spacecraft descends after burst. This is normal as the parachute needs to have denser air before it becomes effective at slowing down the spacecraft. This typically starts around 60,000 feet."
      ]
    },
    {
      "cell_type": "code",
      "execution_count": null,
      "metadata": {
        "colab": {
          "base_uri": "https://localhost:8080/",
          "height": 637
        },
        "id": "J-JvcIZzSS5n",
        "outputId": "984cdcca-3e02-4d45-eda2-9fdc91705684"
      },
      "outputs": [],
      "source": [
        "har_alt.plot(title=\"Altitude Plot (HAR)\",ylabel=\"Altitude in meters\",xlabel=\"Time at 5 sec intervals\",figsize=(20, 10));\n",
        "plt.savefig('Data/plots/har_alt_plot.png',bbox_inches = \"tight\",dpi = 500)"
      ]
    },
    {
      "cell_type": "code",
      "execution_count": 12,
      "metadata": {},
      "outputs": [
        {
          "data": {
            "image/png": "[encoded data removed]",
            "text/plain": [
              "<Figure size 1440x720 with 1 Axes>"
            ]
          },
          "metadata": {
            "needs_background": "light"
          },
          "output_type": "display_data"
        }
      ],
      "source": [
        "har_alt_short.plot(title=\"Altitude Plot (HAR)\",ylabel=\"Altitude in meters\",xlabel=\"Time at 5 sec intervals\",figsize=(20, 10));\n",
        "plt.savefig('Data/plots/har_alt_plot.png',bbox_inches = \"tight\",dpi = 500)"
      ]
    },
    {
      "cell_type": "code",
      "execution_count": null,
      "metadata": {
        "colab": {
          "base_uri": "https://localhost:8080/",
          "height": 637
        },
        "id": "0WdJGOIB1dwd",
        "outputId": "bb8fcf96-b656-4b81-ff73-f2ad8a8b6755"
      },
      "outputs": [],
      "source": [
        "#bert_alt.plot(title=\"Altitude Plot (BERT)\",ylabel=\"Altitude in meters\",xlabel=\"Time in seconds\",figsize=(20, 10));\n",
        "#plt.savefig('/content/gdrive/My Drive/StateFairPlots/bert_alt_plot.png',bbox_inches = \"tight\",dpi = 500)"
      ]
    },
    {
      "cell_type": "markdown",
      "metadata": {
        "id": "9Yc3clPSaNqu"
      },
      "source": [
        "## Temperature\n",
        "Again, note that HAR is located in the spacecraft and BERT is located in a Pelican case between the spacecraft and the parachute. BERT does not have insulation around it, so it recorded colder temperatures than HAR that is located in the insulated spacecraft. Please note that the temperature increase is due to a temperature inversion that natually occurs in the atmosphere.\n",
        "\n",
        "In addition to the insulation, HAR is near equipment that generates a lot more heat than what BERT has. The Raspberry Pi Compute Module 4 and the Rocket M5 both generate quite a bit of heat during normal operation. This adds to the temperature inside the spacecraft."
      ]
    },
    {
      "cell_type": "code",
      "execution_count": null,
      "metadata": {
        "colab": {
          "base_uri": "https://localhost:8080/",
          "height": 637
        },
        "id": "eOaIOE7QUGx5",
        "outputId": "603aaeba-01ce-44b4-81cc-cef41e038335"
      },
      "outputs": [],
      "source": [
        "har_temp.plot(title=\"Temperature Plot (HAR)\",ylabel=\"Temperature in C\",xlabel=\"Time at 5 sec intervals\",figsize=(20, 10));\n",
        "plt.savefig('Data/plots/har_temp_plot.png',bbox_inches = \"tight\",dpi = 500)"
      ]
    },
    {
      "cell_type": "code",
      "execution_count": null,
      "metadata": {
        "colab": {
          "base_uri": "https://localhost:8080/",
          "height": 637
        },
        "id": "yvC1DWNupRJ1",
        "outputId": "27b3525d-627e-411f-e3e0-e976df805bbc"
      },
      "outputs": [],
      "source": [
        "#bert_df2.Temp.plot(title=\"Temperature Plot (BERT)\",ylabel=\"Temp in C\",xlabel=\"Time at 1 sec intervals\",figsize=(20, 10));\n",
        "#plt.savefig('/content/gdrive/My Drive/StateFairPlots/bert_temp_plot.png',bbox_inches = \"tight\",dpi = 500)"
      ]
    },
    {
      "cell_type": "markdown",
      "metadata": {
        "id": "0mq8WTMjbrC1"
      },
      "source": [
        "## Humidity\n",
        "Below is the Humidity readings from both HAR and BERT. BERT had higher readings probably due to the case it was in which was much more confined and probably had more of the higher humidity air from the ground still trapped in it. The spacecraft was probably able to vent more of this out and once it hit the drier colder air lost almost all of the humidity.\n",
        "\n",
        "This is probably the reason that we did not experience much condensation in the video from the flight. The air was already fairly dry and remained dry until we were back on the ground."
      ]
    },
    {
      "cell_type": "code",
      "execution_count": null,
      "metadata": {
        "colab": {
          "base_uri": "https://localhost:8080/",
          "height": 637
        },
        "id": "7xDFxRC5Uz0h",
        "outputId": "47cb09f3-7057-46ea-c611-357c30f5c85c"
      },
      "outputs": [],
      "source": [
        "har_df.Humidity.plot(title=\"Humidity Plot (HAR)\",ylabel=\"Humidity as %\",xlabel=\"Time at 5 sec intervals\",figsize=(20, 10));\n",
        "plt.savefig('Data/plots/har_alt_plot.png',bbox_inches = \"tight\",dpi = 500)"
      ]
    },
    {
      "cell_type": "code",
      "execution_count": null,
      "metadata": {
        "colab": {
          "base_uri": "https://localhost:8080/",
          "height": 637
        },
        "id": "wwXMYwYA4fHK",
        "outputId": "1b7d8166-4233-4121-ae04-191671eacd73"
      },
      "outputs": [],
      "source": [
        "#bert_df2.Humidity.plot(title=\"Humidity Plot (BERT)\",ylabel=\"Humidity (%)\",xlabel=\"Time at 1 sec intervals\",figsize=(20, 10));\n",
        "#plt.savefig('/content/gdrive/My Drive/StateFairPlots/bert_humidity_plot.png',bbox_inches = \"tight\",dpi = 500)"
      ]
    },
    {
      "cell_type": "markdown",
      "metadata": {
        "id": "bSQLQF9Ncoui"
      },
      "source": [
        "## Pressure\n",
        "The pressure sensor on the Clue board is not rated to zero pressure and so there is a chance that there are some errors in these readings. BERT also is in a case that while not airtight, is somewhat sealed and so there was probably a delay as the pressure equalized between inside the case and outside. Still, the profile that we see here is typical for what we see on most flights. "
      ]
    },
    {
      "cell_type": "code",
      "execution_count": null,
      "metadata": {
        "colab": {
          "base_uri": "https://localhost:8080/",
          "height": 637
        },
        "id": "H-R95gZsVRuO",
        "outputId": "fb69480a-b0d0-4cf4-afaa-fe454a2f63ae"
      },
      "outputs": [],
      "source": [
        "har_df.Pressure.plot(title=\"Pressure Plot (HAR)\",ylabel=\"Pressure in hPa\",xlabel=\"Time at 5 sec intervals\",figsize=(20, 10));\n",
        "plt.savefig('Data/plots/har_pressure_plot.png',bbox_inches = \"tight\",dpi = 500)"
      ]
    },
    {
      "cell_type": "code",
      "execution_count": null,
      "metadata": {
        "colab": {
          "base_uri": "https://localhost:8080/",
          "height": 637
        },
        "id": "ZoVu2IGsfL6K",
        "outputId": "525f4bd8-2e83-4c7e-e04b-f148ff53e3b1"
      },
      "outputs": [],
      "source": [
        "#bert_df2.Pressure.plot(title=\"Pressure Plot (BERT)\",ylabel=\"Pressure in hPa\",xlabel=\"Time at 1 sec intervals\",figsize=(20, 10));\n",
        "#plt.savefig('/content/gdrive/My Drive/StateFairPlots/bert_pressure_plot.png',bbox_inches = \"tight\",dpi = 500)"
      ]
    },
    {
      "cell_type": "markdown",
      "metadata": {
        "id": "KUIdMcu1vvd-"
      },
      "source": [
        "## Temp vs Altitude\n",
        "It's useful to look at this data vs Altitude. "
      ]
    },
    {
      "cell_type": "code",
      "execution_count": null,
      "metadata": {
        "colab": {
          "base_uri": "https://localhost:8080/",
          "height": 637
        },
        "id": "SV-vxduSwYew",
        "outputId": "c5bfa967-9509-4afa-a050-51a170b3dbbd"
      },
      "outputs": [],
      "source": [
        "har_df.plot(title=\"Temp vs Altitude Plot\",ylabel=\"Altitude in meters\",xlabel=\"Temp in C\",x=\"Temp\",y=\"Altitude\",figsize=(20, 10))\n",
        "plt.savefig('Data/plots/bert_tempalt_plot.png',bbox_inches = \"tight\",dpi = 500)"
      ]
    },
    {
      "cell_type": "markdown",
      "metadata": {
        "id": "hWm313zye3Sc"
      },
      "source": [
        "## Pressure vs. Altitude\n",
        "\n",
        "In lower altitudes you can see there is a linear relationship between pressure and altitude. This is why pressure sensors are often used as altimeters as they are more accurate then even GPS."
      ]
    },
    {
      "cell_type": "code",
      "execution_count": null,
      "metadata": {
        "colab": {
          "base_uri": "https://localhost:8080/",
          "height": 637
        },
        "id": "5Co3qhMhoPrL",
        "outputId": "b3a83e1f-7107-4d17-84b5-8805b7f0490d"
      },
      "outputs": [],
      "source": [
        "har_df.plot(title=\"Pressure vs Altitude Plot\",ylabel=\"Altitude in meters\",xlabel=\"Pressure in hPa\",x=\"Pressure\",y=\"Altitude\",figsize=(20, 10))\n",
        "plt.savefig('Data/plots/pressurealt_plot.png',bbox_inches = \"tight\",dpi = 500)"
      ]
    },
    {
      "cell_type": "markdown",
      "metadata": {
        "id": "JXxeS5kYwa3J"
      },
      "source": [
        "Ok, let's print one of these and make sure it looks right."
      ]
    },
    {
      "cell_type": "code",
      "execution_count": null,
      "metadata": {
        "colab": {
          "base_uri": "https://localhost:8080/",
          "height": 637
        },
        "id": "IfpuN_Gko5LO",
        "outputId": "82fd56f4-88e0-456a-e7f2-79e9d350caa1"
      },
      "outputs": [],
      "source": [
        "# Setup fixed points for graphing with\n",
        "\n",
        "# Turn on subplots\n",
        "fig, ax1 = plt.subplots(figsize=(20,10))\n",
        "color = 'tab:red'\n",
        "ax1.set_xlabel('time (s)')\n",
        "ax1.set_ylabel('Humidity (%)', color=color)\n",
        "ax1.plot(har_df.Humidity,color=color)\n",
        "ax1.tick_params(axis='y', labelcolor=color)\n",
        "\n",
        "ax2 = ax1.twinx()  # instantiate a second axes that shares the same x-axis\n",
        "\n",
        "color = 'tab:blue'\n",
        "ax2.set_ylabel('Temperature in C', color=color)  # we already handled the x-label with ax1\n",
        "ax2.plot(har_df.Temp)\n",
        "ax2.tick_params(axis='y', labelcolor=color)\n",
        "\n",
        "# Always have a good title\n",
        "plt.title(\"L-159-B Temp vs Humidity\",color='c')\n",
        "# This allows us to save our pretty graph so we can frame it later\n",
        "plt.savefig('Data/plots/temp_humidity.png',bbox_inches = \"tight\",dpi = 500)"
      ]
    },
    {
      "cell_type": "code",
      "execution_count": null,
      "metadata": {
        "colab": {
          "base_uri": "https://localhost:8080/",
          "height": 637
        },
        "id": "4sFpM473smSt",
        "outputId": "b5c4b67d-2461-47ee-b1cc-4e2f33ac30b2"
      },
      "outputs": [],
      "source": [
        "# Setup fixed points for graphing with\n",
        "\n",
        "# Turn on subplots\n",
        "fig, ax1 = plt.subplots(figsize=(20,10))\n",
        "color = 'tab:red'\n",
        "ax1.set_xlabel('time (s)')\n",
        "ax1.set_ylabel('Pressure (hPa)', color=color)\n",
        "ax1.plot(har_df.Pressure,color=color)\n",
        "ax1.tick_params(axis='y', labelcolor=color)\n",
        "\n",
        "ax2 = ax1.twinx()  # instantiate a second axes that shares the same x-axis\n",
        "\n",
        "color = 'tab:blue'\n",
        "ax2.set_ylabel('Temperature in C', color=color)  # we already handled the x-label with ax1\n",
        "ax2.plot(har_df.Temp)\n",
        "ax2.tick_params(axis='y', labelcolor=color)\n",
        "\n",
        "# Always have a good title\n",
        "plt.title(\"L-159-B Temp vs Pressure\",color='c')\n",
        "# This allows us to save our pretty graph so we can frame it later\n",
        "plt.savefig('Data/plots/temp_pressure.png',bbox_inches = \"tight\",dpi = 500)"
      ]
    },
    {
      "cell_type": "code",
      "execution_count": null,
      "metadata": {
        "colab": {
          "base_uri": "https://localhost:8080/",
          "height": 637
        },
        "id": "_8LfQNdXs89W",
        "outputId": "64662a7a-b940-4b74-e668-a2fed2c6aa57"
      },
      "outputs": [],
      "source": [
        "# Setup fixed points for graphing with\n",
        "\n",
        "# Turn on subplots\n",
        "fig, ax1 = plt.subplots(figsize=(20,10))\n",
        "color = 'tab:red'\n",
        "ax1.set_xlabel('time (s)')\n",
        "ax1.set_ylabel('Pressure (hPa)', color=color)\n",
        "ax1.plot(har_df.Pressure,color=color)\n",
        "ax1.tick_params(axis='y', labelcolor=color)\n",
        "\n",
        "ax2 = ax1.twinx()  # instantiate a second axes that shares the same x-axis\n",
        "\n",
        "color = 'tab:blue'\n",
        "ax2.set_ylabel('Humidity (%)', color=color)  # we already handled the x-label with ax1\n",
        "ax2.plot(har_df.Humidity)\n",
        "ax2.tick_params(axis='y', labelcolor=color)\n",
        "\n",
        "# Always have a good title\n",
        "plt.title(\"L-159-B Humidity vs Pressure\",color='c')\n",
        "# This allows us to save our pretty graph so we can frame it later\n",
        "plt.savefig('Data/plots/humidity_pressure.png',bbox_inches = \"tight\",dpi = 500)"
      ]
    },
    {
      "cell_type": "markdown",
      "metadata": {
        "id": "orMq0ag_QnwS"
      },
      "source": [
        "# Mapping the data\n",
        "Let's map the data. There are a couple of ways to do this. First, we can save the information as a Keyhole Markup Language (KML). This format is then easy to import into Google Maps or Google Earth. Other systems can import a KML file. \n",
        "\n",
        "The second method is to actually map the data and for that we can use timemapbase which will download map tiles from Open Street Maps."
      ]
    },
    {
      "cell_type": "markdown",
      "metadata": {
        "id": "mA-iOx8crD0e"
      },
      "source": [
        "Let's save the data back into the dataframe. Lon and Lat are stored as integers and need to be converted to decimal degress. This is easily done by taking the value and dividing it by 10000000. The Altitude is in millimeters, and we can convert this to meters by dividing it by 1000."
      ]
    },
    {
      "cell_type": "markdown",
      "metadata": {
        "id": "N7JhuM9UrZ3w"
      },
      "source": [
        "Now, we can plot the Lat/Lon using Tilemaps. We need to start by initializing timemapbase.\n"
      ]
    },
    {
      "cell_type": "code",
      "execution_count": null,
      "metadata": {
        "id": "Bp7lF_INu6Mq"
      },
      "outputs": [],
      "source": [
        "tilemapbase.init(create=True)"
      ]
    },
    {
      "cell_type": "markdown",
      "metadata": {
        "id": "srfzw7rQ-Ptf"
      },
      "source": [
        "# Create KML file\n",
        "A KML file allows us to import the path of the spacecraft into other programs. This allows us to make the KML file and save it."
      ]
    },
    {
      "cell_type": "code",
      "execution_count": null,
      "metadata": {
        "id": "flPxsFb8-Tq7"
      },
      "outputs": [],
      "source": [
        "kml = simplekml.Kml()\n",
        "linestring = kml.newlinestring(name=flight_id)\n",
        "har_df.apply(lambda X: linestring.coords.addcoordinates([( X[\"Lon\"],X[\"Lat\"],X[\"Altitude\"])]) ,axis=1)\n",
        "\n",
        "linestring.altitudemode = simplekml.AltitudeMode.relativetoground\n",
        "linestring.extrude = 1\n",
        "linestring.linestyle.color = simplekml.Color.green\n",
        "linestring.linestyle.width = 5\n",
        "linestring.polystyle.color = simplekml.Color.orange\n",
        "#pol = kml.newpolygon(name= 'ACTONO', description= 'Acton County', \n",
        "#outerboundaryis=tuples, extrude=extrude, altitudemode=altitudemode)\n",
        "\n",
        "#Styling colors\n",
        "#pol.style.linestyle.color = simplekml.Color.green\n",
        "#pol.style.linestyle.width = 5\n",
        "#pol.style.polystyle.color = simplekml.Color.changealphaint(100, \n",
        "#simplekml.Color.green)\n",
        "\n",
        "#Saving\n",
        "kml.save(\"Data/flight.kml\")"
      ]
    },
    {
      "cell_type": "markdown",
      "metadata": {
        "id": "0rLagTTQg3wd"
      },
      "source": [
        "## KML on display\n",
        "You can see this KML file in action here \n",
        "[HABET Flight L-158-D on Google Maps](https://www.google.com/maps/d/u/0/edit?mid=1kmNp71h18NLEnd1AcFXASQY5rvfCthjX&usp=sharing)"
      ]
    },
    {
      "cell_type": "markdown",
      "metadata": {
        "id": "Sfh6ZSVHkyWq"
      },
      "source": [
        "# Map the data\n",
        "We can start by graphing the latitude and longitude data. This clearly shows the path, but without a map it does not give us a reference to things such as streets and other features."
      ]
    },
    {
      "cell_type": "code",
      "execution_count": null,
      "metadata": {
        "colab": {
          "base_uri": "https://localhost:8080/",
          "height": 1000
        },
        "id": "EAC9oTrnk0Fq",
        "outputId": "a1dc9701-5b2c-4651-e1ed-31aa9393650e"
      },
      "outputs": [],
      "source": [
        "fig = plt.figure(figsize=(20, 20))\n",
        "# Always have a good title and labels\n",
        "plt.ylabel('Latitude (DD.MM)', color=color)\n",
        "plt.xlabel('Longitude (DD.MM)', color=color)\n",
        "\n",
        "plt.title(\"HAR GPS Plot\",color='r')\n",
        "plt.plot(har_lon,har_lat)\n",
        "plt.savefig('Data/plots/bert_plot_nomap.png',bbox_inches = \"tight\",dpi = 500)"
      ]
    },
    {
      "cell_type": "markdown",
      "metadata": {
        "id": "QQDJrRkDnNJs"
      },
      "source": [
        "## 3D plot\n",
        "We can do a 3D plot that has the latitude, longitude and altitude. Again, there is no map for a reference but it does give us a fairly good picture of what the flight path looked like."
      ]
    },
    {
      "cell_type": "code",
      "execution_count": null,
      "metadata": {
        "colab": {
          "base_uri": "https://localhost:8080/",
          "height": 1000
        },
        "id": "MhUkgLZ1y1hJ",
        "outputId": "16ecf573-b2ca-4802-f965-e1c439dfe92d"
      },
      "outputs": [],
      "source": [
        "from mpl_toolkits.mplot3d import Axes3D\n",
        "\n",
        "ur = (42.133700, -93.494635)\n",
        "ll = (42.042358, -93.692460)\n",
        "fig = plt.figure(figsize=(15, 15))\n",
        "ax = Axes3D(fig)\n",
        "ax.plot3D(har_lon,har_lat,har_alt)\n",
        "\n",
        "ax.set_title(u'3D plot of flight Path')\n",
        "ax.set_xlabel(u'Longitude (°E)', labelpad=10)\n",
        "ax.set_ylabel(u'Latitude (°N)', labelpad=10)\n",
        "ax.set_zlabel(u'Altitude (meters)', labelpad=20)\n",
        "ax.plot3D(har_lon, har_lat, har_alt, color = 'green', lw = 1.5)\n",
        "plt.savefig('Data/plots/3D_View.png',bbox_inches = \"tight\",dpi = 300)"
      ]
    },
    {
      "cell_type": "markdown",
      "metadata": {
        "id": "PEdN7MDJmFws"
      },
      "source": [
        "## Mapping using BaseMaps\n",
        "We can use timemapbase to download Open Street Map tiles. We will center this map on the launch location."
      ]
    },
    {
      "cell_type": "code",
      "execution_count": null,
      "metadata": {
        "colab": {
          "base_uri": "https://localhost:8080/",
          "height": 1000
        },
        "id": "0VsqwLIDvQay",
        "outputId": "1781533e-f852-4356-e307-5ceff3be9710"
      },
      "outputs": [],
      "source": [
        "# Define the `extent`\n",
        "color='blue'\n",
        "\n",
        "# Zoom, the higher the number the zoomed out it will be. This is centered on\n",
        "# the launch location\n",
        "degree_range = 3\n",
        "\n",
        "extent = tilemapbase.Extent.from_lonlat(launch_loc[1] - degree_range, launch_loc[1] + degree_range,\n",
        "                  launch_loc[0] - degree_range, launch_loc[0] + degree_range)\n",
        "extent = extent.to_aspect(1.0)\n",
        "\n",
        "# Convert to web mercator\n",
        "path = [tilemapbase.project(x,y) for x,y in zip(har_lon, har_lat)]\n",
        "x, y = zip(*path)\n",
        "\n",
        "fig, ax = plt.subplots(figsize=(20,20))\n",
        "\n",
        "plotter = tilemapbase.Plotter(extent, tilemapbase.tiles.build_OSM(), width=800)\n",
        "plotter.plot(ax)\n",
        "plt.ylabel('Latitude (Mercator)', color=color)\n",
        "plt.xlabel('Longitude (Mercator)', color=color)\n",
        "\n",
        "plt.title(\"GPS Plot on Street map\",color='r')\n",
        "\n",
        "ax.plot(x, y,\"b-\")\n",
        "plt.savefig('Data/plots/har_plot_map.png',bbox_inches = \"tight\",dpi = 300)"
      ]
    },
    {
      "cell_type": "markdown",
      "metadata": {
        "id": "kP6fy8KCmpw9"
      },
      "source": [
        "## Zooming in\n",
        "We can zoom in, let's zoom in on the landing area. To do this we will change the center area based on the last longitutde and latitude recorded which is at the end of the flight. "
      ]
    },
    {
      "cell_type": "code",
      "execution_count": null,
      "metadata": {
        "colab": {
          "base_uri": "https://localhost:8080/",
          "height": 1000
        },
        "id": "USgdlOnHCs1b",
        "outputId": "dc1fb364-5b4a-4052-8cb1-d5fbcb1d7e8a"
      },
      "outputs": [],
      "source": [
        "# Define the `extent`\n",
        "color='blue'\n",
        "\n",
        "# Zoom, the higher the number the zoomed out it will be. This is centered on\n",
        "# the landing location\n",
        "degree_range = 0.07\n",
        "\n",
        "extent = tilemapbase.Extent.from_lonlat(har_lon.iloc[-1] - degree_range, har_lon.iloc[-1] + degree_range,\n",
        "                  har_lat.iloc[-1] - degree_range, har_lat.iloc[-1] + degree_range)\n",
        "extent = extent.to_aspect(1.0)\n",
        "\n",
        "# Convert to web mercator\n",
        "path = [tilemapbase.project(x,y) for x,y in zip(har_lon, har_lat)]\n",
        "x, y = zip(*path)\n",
        "\n",
        "fig, ax = plt.subplots(figsize=(20,20))\n",
        "t = tilemapbase.tiles.Carto_Light\n",
        "plotter = tilemapbase.Plotter(extent, t, width=800)\n",
        "plotter.plot(ax)\n",
        "plt.ylabel('Latitude (Mercator)', color=color)\n",
        "plt.xlabel('Longitude (Mercator)', color=color)\n",
        "\n",
        "plt.title(\"GPS Plot Landing\",color='r')\n",
        "\n",
        "ax.plot(x, y,\"b-\")\n",
        "plt.savefig('Data/plots/gps_plot_map_landing.png',bbox_inches = \"tight\",dpi = 300)"
      ]
    }
  ],
  "metadata": {
    "colab": {
      "collapsed_sections": [],
      "machine_shape": "hm",
      "name": "Parse HABET FDR Data.ipynb",
      "provenance": []
    },
    "kernelspec": {
      "display_name": "Python 3",
      "name": "python3"
    },
    "language_info": {
      "codemirror_mode": {
        "name": "ipython",
        "version": 3
      },
      "file_extension": ".py",
      "mimetype": "text/x-python",
      "name": "python",
      "nbconvert_exporter": "python",
      "pygments_lexer": "ipython3",
      "version": "3.9.7"
    }
  },
  "nbformat": 4,
  "nbformat_minor": 0
}
